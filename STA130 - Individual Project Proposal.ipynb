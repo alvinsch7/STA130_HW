{
 "cells": [
  {
   "cell_type": "markdown",
   "id": "37fc10ba",
   "metadata": {},
   "source": [
    "Analysis 1:\n",
    "\n",
    "How does loneliness affect one’s physical and mental health?\n",
    "\n",
    "Variable: \n",
    "Loneliness and Health Scores \n",
    "\n",
    "Analysis: \n",
    "Analyze the sample’s mental and physical health based on data given by tests done in the past. \n",
    "\n",
    "Possible Results: \n",
    "\n",
    "- Loneliness leads to poor mental health\n",
    "- Loneliness leads to poor physical health\n",
    "- Loneliness does not affect mental health\n",
    "- Loneliness does not affect physical health\n",
    "- Loneliness affects mental health but not physical health\n",
    "- Loneliness affects physical health but not mental health\n",
    "\n",
    "Relevance: \n",
    "\n",
    "I think this research question and the possible results is relevant to the objective of this course because we can analyze the issues of the population regarding both mental and physical health using data and statistics. \n",
    "\n",
    "Method:\n",
    "\n",
    "Calculate the correlation between loneliness and mental health scores (like depression or anxiety) or physical health scores.\n",
    "Use a regression model with loneliness as the independent variable and depression score as the dependent variable.\n",
    "Interpret the results. If loneliness has a significant positive effect on depression scores, this would suggest that loneliness likely contributes to poorer mental health.\n",
    "\n",
    "Furthermore, creating visuals like histograms and box plots can be used to visualize and display the data, to visually represent the correlation between the variables. \n",
    "\n",
    "\n",
    "\n",
    "\n",
    "\n",
    "\n",
    "\n",
    "\n",
    "\n"
   ]
  },
  {
   "cell_type": "markdown",
   "id": "dd2f52ab",
   "metadata": {},
   "source": [
    "Analysis 2:\n",
    "\n",
    "How does lack of exercise affect one’s mental health\n",
    "\n",
    "Variable: \n",
    "Exercise \n",
    "\n",
    "Analysis: \n",
    "Analyze the sample’s mental health based on data given by tests and surveys on exercise done in the past. \n",
    "\n",
    "Possible Results:\n",
    "- Exercise does not affect mental health\n",
    "- Excercise does affect mental health\n",
    "    - More excercise benefits mental health\n",
    "    - Less excercise harms mental health\n",
    "    \n",
    "\n",
    "Relevance: \n",
    "\n",
    "I think this research question and the possible results is relevant to the objective of this course because we can analyze the direct relationship between physical activity and one's mental health using datasets and statistics. \n",
    "\n",
    "Method:\n",
    "\n",
    "Usingg hypothesis testing, we can create a null hypothesis stating: \"Lack of exercise does not affect mental health,\" and the altnerative hypothesis stating: \"lack of exercise negatively affects mental health.\" Then, we can create bootstrapped datasets using the mean from the datasets and create a 95% confidence interval. We can use the bootstrapped dataset and confidence interval to calculate a p-value, and finally conclude based on the p-value. "
   ]
  },
  {
   "cell_type": "markdown",
   "id": "bfbab1c2",
   "metadata": {},
   "source": [
    "Analysis 3:\n",
    "\n",
    "Are introverts more prone to mental health issues like depression? \n",
    "\n",
    "Variable:\n",
    "Introverts, extraverts, mental health score (depression)\n",
    "\n",
    "Analysis:\n",
    "Analyze the sample’s mental health based on data given by tests and surveys on one's personality type.\n",
    "\n",
    "Possible Results:\n",
    "- Introverts are more prone to mental issues\n",
    "- Introverts are not more prone to mental issues (there is no difference between introverts and extraverts)\n",
    "\n",
    "I think this research question and the possible results is relevant to the objective of this course because we can analyze the direct relationship between physical activity and one's mental health using datasets and statistics.\n",
    "\n",
    "Method:\n",
    "\n",
    "We can use hypothesis testing again, by creating a null hypothesis stating: \"there is no difference between introverts and extraverts when it comes to mental health issues like depression,\" and the altnerative hypothesis stating: \"introverts are more prone to mental health issues like depression.\" Then, we can create bootstrapped datasets using the mean from the datasets and create a 95% confidence interval. We can use the bootstrapped dataset and confidence interval to calculate a p-value, and finally conclude based on the p-value."
   ]
  },
  {
   "cell_type": "code",
   "execution_count": null,
   "id": "e83c06bd",
   "metadata": {},
   "outputs": [],
   "source": []
  }
 ],
 "metadata": {
  "kernelspec": {
   "display_name": "Python 3 (ipykernel)",
   "language": "python",
   "name": "python3"
  },
  "language_info": {
   "codemirror_mode": {
    "name": "ipython",
    "version": 3
   },
   "file_extension": ".py",
   "mimetype": "text/x-python",
   "name": "python",
   "nbconvert_exporter": "python",
   "pygments_lexer": "ipython3",
   "version": "3.11.6"
  }
 },
 "nbformat": 4,
 "nbformat_minor": 5
}
