{
 "cells": [
  {
   "cell_type": "code",
   "execution_count": null,
   "id": "6a02c00d",
   "metadata": {},
   "outputs": [],
   "source": [
    "Question 1: "
   ]
  },
  {
   "cell_type": "code",
   "execution_count": 1,
   "id": "ad76db69",
   "metadata": {},
   "outputs": [
    {
     "data": {
      "text/plain": [
       "0.66856"
      ]
     },
     "execution_count": 1,
     "metadata": {},
     "output_type": "execute_result"
    }
   ],
   "source": [
    "import numpy as np\n",
    "all_door_options = (1,2,3)  # tuple\n",
    "my_door_choice = 1  # 1,2,3\n",
    "i_won = 0\n",
    "reps = 100000\n",
    "for i in range(reps):\n",
    "    secret_winning_door = np.random.choice(all_door_options)\n",
    "    all_door_options_list = list(all_door_options)\n",
    "    # take the secret_winning_door, so we don't show it as a \"goat\" losing door\n",
    "    all_door_options_list.remove(secret_winning_door)\n",
    "    try:\n",
    "        # if my_door_choice was secret_winning_door then it's already removed\n",
    "        all_door_options_list.remove(my_door_choice)\n",
    "    except:\n",
    "        pass\n",
    "    # show a \"goat\" losing door and remove it\n",
    "    goat_door_reveal = np.random.choice(all_door_options_list)\n",
    "    all_door_options_list.remove(goat_door_reveal)\n",
    "\n",
    "    # put the secret_winning_door back in if it wasn't our choice\n",
    "    # we previously removed it, so it would be shown as a  \"goat\" losing door\n",
    "    if secret_winning_door != my_door_choice:\n",
    "        all_door_options_list.append(secret_winning_door)\n",
    "    # if secret_winning_door was our choice then all that's left in the list is a \"goat\" losing door\n",
    "    # if secret_winning_door wasn't our choice then it's all that will be left in the list\n",
    "\n",
    "    # swap strategy\n",
    "    my_door_choice = all_door_options_list[0]\n",
    "\n",
    "    if my_door_choice == secret_winning_door:\n",
    "        i_won += 1\n",
    "\n",
    "i_won/reps"
   ]
  },
  {
   "cell_type": "markdown",
   "id": "abfcf7a1",
   "metadata": {},
   "source": [
    "Chat: \n",
    "Your code is simulating the Monty Hall problem using a \"swap\" strategy, where after a \"goat\" door is revealed, you always switch to the other remaining door. Let's walk through it and address any potential concerns:\n",
    "\n",
    "Code Logic Summary:\n",
    "You randomly choose the winning door (secret_winning_door).\n",
    "A list of doors excluding the winning door is created.\n",
    "If your initial door choice is not the winning door, it's also removed from the list of remaining doors.\n",
    "Monty (the host) reveals one of the remaining \"goat\" doors.\n",
    "You always switch to the remaining door after Monty reveals a door.\n",
    "Finally, you check whether your new door choice is the winning door and count the wins.\n",
    "Result\n",
    "At the end, you compute the win rate by dividing the number of wins (i_won) by the number of repetitions (reps).\n",
    "\n",
    "Let's run your code logic and calculate the result:\n",
    "\n",
    "The win rate using the \"swap\" strategy in the Monty Hall problem, based on 100,000 simulations, is approximately 66.68%. This aligns with the theoretical probability that swapping doors gives you a 2/3 chance of winning."
   ]
  },
  {
   "cell_type": "markdown",
   "id": "683d5611",
   "metadata": {},
   "source": [
    "Question 2: "
   ]
  },
  {
   "cell_type": "code",
   "execution_count": 3,
   "id": "6d222658",
   "metadata": {},
   "outputs": [
    {
     "name": "stdout",
     "output_type": "stream",
     "text": [
      "0.66659\n"
     ]
    }
   ],
   "source": [
    "import numpy as np\n",
    "\n",
    "reps = 100000\n",
    "wins = 0\n",
    "\n",
    "for _ in range(reps):\n",
    "    winning_door = np.random.choice([1, 2, 3])\n",
    "    player_choice = np.random.choice([1, 2, 3])\n",
    "\n",
    "    remaining_doors = [door for door in [1, 2, 3] if door != player_choice and door != winning_door]\n",
    "    revealed_goat_door = np.random.choice(remaining_doors)\n",
    "\n",
    "    switch_choice = [door for door in [1, 2, 3] if door != player_choice and door != revealed_goat_door][0]\n",
    "\n",
    "    if switch_choice == winning_door:\n",
    "        wins += 1\n",
    "\n",
    "win_rate = wins / reps\n",
    "print(win_rate)\n"
   ]
  },
  {
   "cell_type": "markdown",
   "id": "b1f40577",
   "metadata": {},
   "source": [
    "As a beginner to Python, I think the two codes are understandable and clear, but chatgpt's version is shorter, and can be easier to read. "
   ]
  },
  {
   "cell_type": "markdown",
   "id": "00c63bc2",
   "metadata": {},
   "source": [
    "Question 3:"
   ]
  },
  {
   "cell_type": "code",
   "execution_count": 4,
   "id": "9b764bf9",
   "metadata": {},
   "outputs": [
    {
     "name": "stdout",
     "output_type": "stream",
     "text": [
      "0.66581\n"
     ]
    }
   ],
   "source": [
    "import numpy as np\n",
    "\n",
    "# the reps mean the amount of trials for the simulation, aka the parameters. \n",
    "reps = 100000\n",
    "wins = 0\n",
    "\n",
    "for _ in range(reps):\n",
    "    # chooses out of 3 options randomly for the simulation.\n",
    "    winning_door = np.random.choice([1, 2, 3])\n",
    "    player_choice = np.random.choice([1, 2, 3])\n",
    "\n",
    "    # chooses the remaining door to be one that is not the player chosen door or the winning door and then it becomes the revealed goat door. \n",
    "    remaining_doors = [door for door in [1, 2, 3] if door != player_choice and door != winning_door]\n",
    "    revealed_goat_door = np.random.choice(remaining_doors)\n",
    "\n",
    "    # Player switches to the remaining unopened door\n",
    "    switch_choice = [door for door in [1, 2, 3] if door != player_choice and door != revealed_goat_door][0]\n",
    "\n",
    "    # Check if the player wins by switching\n",
    "    if switch_choice == winning_door:\n",
    "        wins += 1\n",
    "\n",
    "# Calculate the win rate\n",
    "win_rate = wins / reps\n",
    "print(win_rate)\n"
   ]
  },
  {
   "cell_type": "markdown",
   "id": "288f8239",
   "metadata": {},
   "source": [
    "Question 4/5: "
   ]
  },
  {
   "cell_type": "code",
   "execution_count": 5,
   "id": "02ec3593",
   "metadata": {},
   "outputs": [
    {
     "ename": "NameError",
     "evalue": "name 'words' is not defined",
     "output_type": "error",
     "traceback": [
      "\u001b[0;31m---------------------------------------------------------------------------\u001b[0m",
      "\u001b[0;31mNameError\u001b[0m                                 Traceback (most recent call last)",
      "Cell \u001b[0;32mIn[5], line 6\u001b[0m\n\u001b[1;32m      4\u001b[0m word_used \u001b[38;5;241m=\u001b[39m \u001b[38;5;28mdict\u001b[39m() \u001b[38;5;66;03m# defaultdict(int)\u001b[39;00m\n\u001b[1;32m      5\u001b[0m next_word \u001b[38;5;241m=\u001b[39m \u001b[38;5;28mdict\u001b[39m() \u001b[38;5;66;03m# defaultdict(lambda: defaultdict(int))\u001b[39;00m\n\u001b[0;32m----> 6\u001b[0m \u001b[38;5;28;01mfor\u001b[39;00m i,word \u001b[38;5;129;01min\u001b[39;00m \u001b[38;5;28menumerate\u001b[39m(\u001b[43mwords\u001b[49m[:\u001b[38;5;241m-\u001b[39m\u001b[38;5;241m1\u001b[39m]):\n\u001b[1;32m      8\u001b[0m     \u001b[38;5;28;01mif\u001b[39;00m word \u001b[38;5;129;01min\u001b[39;00m word_used:\n\u001b[1;32m      9\u001b[0m         word_used[word] \u001b[38;5;241m+\u001b[39m\u001b[38;5;241m=\u001b[39m \u001b[38;5;241m1\u001b[39m\n",
      "\u001b[0;31mNameError\u001b[0m: name 'words' is not defined"
     ]
    }
   ],
   "source": [
    "# Markovian Chatbot\n",
    "\n",
    "# from collections import defaultdict\n",
    "word_used = dict() # defaultdict(int)\n",
    "next_word = dict() # defaultdict(lambda: defaultdict(int))\n",
    "for i,word in enumerate(words[:-1]):\n",
    "\n",
    "    if word in word_used:\n",
    "        word_used[word] += 1\n",
    "    else:\n",
    "        word_used[word] = 1\n",
    "        next_word[word] = {}\n",
    "\n",
    "    if words[i+1] in next_word[word]:\n",
    "        next_word[word][words[i+1]] += 1\n",
    "    else:\n",
    "        next_word[word][words[i+1]] = 1\n",
    "\n",
    "        \n",
    "        # Markovian Chatbot Extension #1\n",
    "\n",
    "word_used2 = defaultdict(int)\n",
    "next_word2 = defaultdict(lambda: defaultdict(int))\n",
    "for i,word in enumerate(words[:-2]):\n",
    "    word_used2[word+' '+words[i+1]] += 1\n",
    "    next_word2[word+' '+words[i+1]][words[i+2]] += 1 \n",
    "\n",
    "    \n",
    "    \n",
    "    # Markovian Chatbot Extension #2\n",
    "\n",
    "from collections import Counter, defaultdict\n",
    "# `avatar` is a dataset, and `character` is one of it's columns\n",
    "characters = Counter(\"\\n\"+ avatar.character.str.upper().str.replace(' ','.')+\":\")\n",
    "# this code changes the type of the `character` column to `str`; then,\n",
    "# makes the text uppercase, and replaces spaces with '.'\n",
    "\n",
    "nested_dict = lambda: defaultdict(nested_dict)\n",
    "word_used2C = nested_dict()\n",
    "next_word2C = nested_dict()\n",
    "\n",
    "for i,word in enumerate(words[:-2]):\n",
    "    if word in characters:\n",
    "        character = word\n",
    "        \n",
    "    if character not in word_used2C:\n",
    "        word_used2C[character] = dict()\n",
    "    if word+' '+words[i+1] not in word_used2C[character]:\n",
    "        word_used2C[character][word+' '+words[i+1]] = 0\n",
    "    word_used2C[character][word+' '+words[i+1]] += 1\n",
    "    \n",
    "    if character not in next_word2C:\n",
    "        next_word2C[character] = dict()\n",
    "    if word+' '+words[i+1] not in next_word2C[character]:\n",
    "        next_word2C[character][word+' '+words[i+1]] = dict()\n",
    "    if words[i+2] not in next_word2C[character][word+' '+words[i+1]]:\n",
    "        next_word2C[character][word+' '+words[i+1]][words[i+2]] = 0\n",
    "    next_word2C[character][word+' '+words[i+1]][words[i+2]] += 1"
   ]
  },
  {
   "cell_type": "markdown",
   "id": "3fe25031",
   "metadata": {},
   "source": [
    "Question 6: \n",
    "\n",
    "1. The chatbot was able to quickly answer each question in an easy to understand language which a beginner like me was able to understand for the most part. \n",
    "\n",
    "2. I don't think interacting with the chatbot to try to figure things out is frustrating because it provides answer quickly and gives examples and suggestions/improvements to the code. \n",
    "\n",
    "3. Based on my assessment, the Chatbot is 75% useful for helping me understand coding because sometimes, it will not explain certain concepts, which I need to either prompt it again or search on Google myself. However, for the most part, it does help me with coding basics as a beginner. For instance, I can use it to double check my codes and it can change parts and simplify my code. "
   ]
  },
  {
   "cell_type": "markdown",
   "id": "e6a00a9d",
   "metadata": {},
   "source": [
    "Question 7:\n",
    "\n",
    "Since joining the course, I think the use of AI and chatbots has made learning coding, statistics, and data science is innovative, but I think that it can be harmful to a student to a certain degree. The chatbot can be helpful with figuring out problems and providing insight, but for a beginner, it can become a reliance rather than a tool. Personally, I think that for one to succeed in learning coding, statistics, and data science, it is important to tuly understand the material and only use AI as a instrument of learning. "
   ]
  },
  {
   "cell_type": "markdown",
   "id": "6aeea3c6",
   "metadata": {},
   "source": [
    "Question 8:\n",
    "    \n",
    "The chatbot mentioned the importance of different skills like coding, statistic analysis, communication, and adaptibility. I certainly agree with these points and I think they are essential to a career path in computer science, data science, and statistics. I can build these skills through this and future courses at UofT and spending extra personal time to extend my learning in lectures and tutorials. I think the chatbot gave pretty surface level answer which I already had in mind, and the conversation could of been more indepth instead of giving multiple points. I think it would be more beneficial for this kind of discussion to be more deep in specific areas rather than short points in many areas.\n",
    "    \n",
    "    \n"
   ]
  },
  {
   "cell_type": "markdown",
   "id": "1a433956",
   "metadata": {},
   "source": [
    "Question 9: no"
   ]
  },
  {
   "cell_type": "markdown",
   "id": "529eb4d5",
   "metadata": {},
   "source": [
    "Question 4/5: chatlogs"
   ]
  },
  {
   "cell_type": "markdown",
   "id": "6274c928",
   "metadata": {},
   "source": [
    "https://chatgpt.com/share/66ece94f-7ca0-8011-8482-36ef533a80f1 "
   ]
  },
  {
   "cell_type": "markdown",
   "id": "67383adf",
   "metadata": {},
   "source": [
    "https://chatgpt.com/share/66eced28-28b8-8011-9f25-2ec4efd70e79\n",
    "    "
   ]
  },
  {
   "cell_type": "markdown",
   "id": "053e823b",
   "metadata": {},
   "source": [
    "Question 8: https://chatgpt.com/share/66ecf10e-1f88-8011-8ed4-015eb613af51"
   ]
  },
  {
   "cell_type": "code",
   "execution_count": null,
   "id": "a8b8ad43",
   "metadata": {},
   "outputs": [],
   "source": []
  }
 ],
 "metadata": {
  "kernelspec": {
   "display_name": "Python 3 (ipykernel)",
   "language": "python",
   "name": "python3"
  },
  "language_info": {
   "codemirror_mode": {
    "name": "ipython",
    "version": 3
   },
   "file_extension": ".py",
   "mimetype": "text/x-python",
   "name": "python",
   "nbconvert_exporter": "python",
   "pygments_lexer": "ipython3",
   "version": "3.11.6"
  }
 },
 "nbformat": 4,
 "nbformat_minor": 5
}
